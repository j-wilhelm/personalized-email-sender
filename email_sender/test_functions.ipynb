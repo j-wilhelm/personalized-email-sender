{
 "cells": [
  {
   "cell_type": "code",
   "execution_count": 9,
   "metadata": {},
   "outputs": [],
   "source": [
    "import openpyxl as oxl"
   ]
  },
  {
   "cell_type": "code",
   "execution_count": 10,
   "metadata": {},
   "outputs": [],
   "source": [
    "wb = oxl.load_workbook(\"test_excel.xlsx\")\n",
    "current_sheet = wb[\"Current\"]"
   ]
  },
  {
   "cell_type": "code",
   "execution_count": 27,
   "metadata": {},
   "outputs": [],
   "source": [
    "colnames_dict = {}\n",
    "column_index = 0\n",
    "for col in current_sheet.iter_cols(1, current_sheet.max_column):\n",
    "    colname = col[0].value\n",
    "    if colname is None:\n",
    "        column_index += 1\n",
    "        continue\n",
    "    colnames_dict[colname] = column_index\n",
    "    column_index += 1"
   ]
  },
  {
   "cell_type": "code",
   "execution_count": 28,
   "metadata": {},
   "outputs": [],
   "source": [
    "email_dict = {}\n",
    "row_index = 0\n",
    "for row in current_sheet.iter_rows(1, current_sheet.max_row):\n",
    "    rowname = row[colnames_dict[\"Email\"]].value\n",
    "    if \"@\" not in rowname:\n",
    "        row_index += 1\n",
    "        continue\n",
    "    email_dict[rowname] = row_index\n",
    "    row_index += 1\n"
   ]
  },
  {
   "cell_type": "code",
   "execution_count": 29,
   "metadata": {},
   "outputs": [
    {
     "data": {
      "text/plain": [
       "{'j@m.nl': 1, 'm@j.nl': 2, 'a@j.nl': 3, 'c@j.nl': 4}"
      ]
     },
     "execution_count": 29,
     "metadata": {},
     "output_type": "execute_result"
    }
   ],
   "source": [
    "email_dict"
   ]
  },
  {
   "cell_type": "code",
   "execution_count": 36,
   "metadata": {},
   "outputs": [
    {
     "data": {
      "text/plain": [
       "<Cell 'Current'.D1>"
      ]
     },
     "execution_count": 36,
     "metadata": {},
     "output_type": "execute_result"
    }
   ],
   "source": [
    "current_sheet[1][3]"
   ]
  },
  {
   "cell_type": "code",
   "execution_count": 14,
   "metadata": {},
   "outputs": [
    {
     "data": {
      "text/plain": [
       "{'Email': 0,\n",
       " 'Name': 1,\n",
       " 'Kosten_a': 3,\n",
       " 'Kosten_b': 4,\n",
       " 'Kosten_c': 5,\n",
       " 'Kosten_d': 6,\n",
       " 'Kosten_e': 7,\n",
       " 'Totaal': 11}"
      ]
     },
     "execution_count": 14,
     "metadata": {},
     "output_type": "execute_result"
    }
   ],
   "source": [
    "variabelen"
   ]
  },
  {
   "cell_type": "code",
   "execution_count": 26,
   "metadata": {},
   "outputs": [
    {
     "name": "stdout",
     "output_type": "stream",
     "text": [
      "Name\n",
      "Email\n",
      "None\n",
      "Kosten_a\n",
      "Kosten_b\n",
      "Kosten_c\n",
      "Kosten_d\n",
      "Kosten_e\n",
      "None\n",
      "None\n",
      "None\n",
      "Totaal\n"
     ]
    }
   ],
   "source": [
    "for cell in current_sheet[1]:\n",
    "    print(cell.value)"
   ]
  },
  {
   "cell_type": "code",
   "execution_count": 21,
   "metadata": {},
   "outputs": [
    {
     "name": "stdout",
     "output_type": "stream",
     "text": [
      "Help on class Cell in module openpyxl.cell.cell:\n",
      "\n",
      "class Cell(openpyxl.styles.styleable.StyleableObject)\n",
      " |  Cell(worksheet, row=None, column=None, value=None, style_array=None)\n",
      " |  \n",
      " |  Describes cell associated properties.\n",
      " |  \n",
      " |  Properties of interest include style, type, value, and address.\n",
      " |  \n",
      " |  Method resolution order:\n",
      " |      Cell\n",
      " |      openpyxl.styles.styleable.StyleableObject\n",
      " |      builtins.object\n",
      " |  \n",
      " |  Methods defined here:\n",
      " |  \n",
      " |  __init__(self, worksheet, row=None, column=None, value=None, style_array=None)\n",
      " |      Initialize self.  See help(type(self)) for accurate signature.\n",
      " |  \n",
      " |  __repr__(self)\n",
      " |      Return repr(self).\n",
      " |  \n",
      " |  check_error(self, value)\n",
      " |      Tries to convert Error\" else N/A\n",
      " |  \n",
      " |  check_string(self, value)\n",
      " |      Check string coding, length, and line break character\n",
      " |  \n",
      " |  offset(self, row=0, column=0)\n",
      " |      Returns a cell location relative to this cell.\n",
      " |      \n",
      " |      :param row: number of rows to offset\n",
      " |      :type row: int\n",
      " |      \n",
      " |      :param column: number of columns to offset\n",
      " |      :type column: int\n",
      " |      \n",
      " |      :rtype: :class:`openpyxl.cell.Cell`\n",
      " |  \n",
      " |  ----------------------------------------------------------------------\n",
      " |  Data descriptors defined here:\n",
      " |  \n",
      " |  base_date\n",
      " |  \n",
      " |  col_idx\n",
      " |      The numerical index of the column\n",
      " |  \n",
      " |  column\n",
      " |  \n",
      " |  column_letter\n",
      " |  \n",
      " |  comment\n",
      " |      Returns the comment associated with this cell\n",
      " |      \n",
      " |      :type: :class:`openpyxl.comments.Comment`\n",
      " |  \n",
      " |  coordinate\n",
      " |      This cell's coordinate (ex. 'A5')\n",
      " |  \n",
      " |  data_type\n",
      " |  \n",
      " |  encoding\n",
      " |  \n",
      " |  hyperlink\n",
      " |      Return the hyperlink target or an empty string\n",
      " |  \n",
      " |  internal_value\n",
      " |      Always returns the value for excel.\n",
      " |  \n",
      " |  is_date\n",
      " |      True if the value is formatted as a date\n",
      " |      \n",
      " |      :type: bool\n",
      " |  \n",
      " |  parent\n",
      " |  \n",
      " |  row\n",
      " |  \n",
      " |  value\n",
      " |      Get or set the value held in the cell.\n",
      " |      \n",
      " |      :type: depends on the value (string, float, int or\n",
      " |          :class:`datetime.datetime`)\n",
      " |  \n",
      " |  ----------------------------------------------------------------------\n",
      " |  Data descriptors inherited from openpyxl.styles.styleable.StyleableObject:\n",
      " |  \n",
      " |  alignment\n",
      " |  \n",
      " |  border\n",
      " |  \n",
      " |  fill\n",
      " |  \n",
      " |  font\n",
      " |  \n",
      " |  has_style\n",
      " |  \n",
      " |  number_format\n",
      " |  \n",
      " |  pivotButton\n",
      " |  \n",
      " |  protection\n",
      " |  \n",
      " |  quotePrefix\n",
      " |  \n",
      " |  style\n",
      " |  \n",
      " |  style_id\n",
      "\n"
     ]
    }
   ],
   "source": [
    "help(oxl.cell.Cell)"
   ]
  },
  {
   "cell_type": "code",
   "execution_count": null,
   "metadata": {},
   "outputs": [],
   "source": [
    "def parse_excel(filepath):\n",
    "    # Has to loop over rows.\n",
    "    # Append each relevant object to a dictionary\n",
    "    # dict structury: {emailaddres: {name: \"x\"}, {\"info\":\n",
    "\n",
    "    \n",
    "\n",
    "\n",
    "def init_dict(emailaddress):\n",
    "    dict = {}\n",
    "    dict[emailaddress] = {}\n",
    "    dict[emailaddress][\"name\"] = None\n",
    "    dict[emailaddress][\"info\"] = dict"
   ]
  }
 ],
 "metadata": {
  "kernelspec": {
   "display_name": "Python 3",
   "language": "python",
   "name": "python3"
  },
  "language_info": {
   "codemirror_mode": {
    "name": "ipython",
    "version": 3
   },
   "file_extension": ".py",
   "mimetype": "text/x-python",
   "name": "python",
   "nbconvert_exporter": "python",
   "pygments_lexer": "ipython3",
   "version": "3.7.7"
  }
 },
 "nbformat": 4,
 "nbformat_minor": 2
}
